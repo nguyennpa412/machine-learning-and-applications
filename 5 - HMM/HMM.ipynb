{
  "nbformat": 4,
  "nbformat_minor": 0,
  "metadata": {
    "kernelspec": {
      "display_name": "Python 3",
      "language": "python",
      "name": "python3"
    },
    "language_info": {
      "codemirror_mode": {
        "name": "ipython",
        "version": 3
      },
      "file_extension": ".py",
      "mimetype": "text/x-python",
      "name": "python",
      "nbconvert_exporter": "python",
      "pygments_lexer": "ipython3",
      "version": "3.6.9"
    },
    "colab": {
      "name": "HMM.ipynb",
      "provenance": []
    }
  },
  "cells": [
    {
      "cell_type": "code",
      "metadata": {
        "id": "JJWtyS3Bv302",
        "colab_type": "code",
        "colab": {}
      },
      "source": [
        "import numpy as np\n",
        "\n",
        "# Number of pots\n",
        "N = 3\n",
        "# Number of marbles\n",
        "M = 3\n",
        "\n",
        "# Starter probability distribution (Nx1)\n",
        "pi = [0.3, 0.3, 0.4]\n",
        "# Pot -> pot probability distribution (NxN)\n",
        "A = [[0.1, 0.5, 0.4],\n",
        "     [0.3, 0.3, 0.4],\n",
        "     [0.4, 0.4, 0.2]]\n",
        "# Pot -> marble probability distribution (NxM)\n",
        "B = [[0.2 , 0.25, 0.55],\n",
        "     [0.45, 0.2 , 0.35],\n",
        "     [0.2 , 0.1 , 0.7 ]]\n",
        "\n",
        "# Pot labels\n",
        "PL = ['p1', 'p2', 'p3']\n",
        "# Marble labels\n",
        "ML = ['r', 'b', 'y']"
      ],
      "execution_count": 0,
      "outputs": []
    },
    {
      "cell_type": "code",
      "metadata": {
        "id": "3Xqi3PDAwFk4",
        "colab_type": "code",
        "colab": {}
      },
      "source": [
        "def genPi(n):\n",
        "  return np.random.choice(PL, n, pi)\n",
        "\n",
        "def genA(fromPot, n):\n",
        "  switcher = {\n",
        "      PL[0]: np.random.choice(PL, n, np.array(A)[0,:].tolist()),\n",
        "      PL[1]: np.random.choice(PL, n, np.array(A)[1,:].tolist()),\n",
        "      PL[2]: np.random.choice(PL, n, np.array(A)[2,:].tolist()),\n",
        "  }\n",
        "  return switcher.get(fromPot, 'ERROR!')\n",
        "\n",
        "def genB(fromPot, n):\n",
        "  switcher = {\n",
        "      PL[0]: np.random.choice(ML, n, np.array(B)[0,:].tolist()),\n",
        "      PL[1]: np.random.choice(ML, n, np.array(B)[1,:].tolist()),\n",
        "      PL[2]: np.random.choice(ML, n, np.array(B)[2,:].tolist()),\n",
        "  }\n",
        "  return switcher.get(fromPot, 'ERROR!')"
      ],
      "execution_count": 0,
      "outputs": []
    }
  ]
}