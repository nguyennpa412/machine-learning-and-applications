{
 "cells": [
  {
   "cell_type": "code",
   "execution_count": 23,
   "metadata": {},
   "outputs": [],
   "source": [
    "import numpy as np\n",
    "import matplotlib.pyplot as plt\n",
    "\n",
    "# N (each class)\n",
    "N = 10\n",
    "\n",
    "# generate original data\n",
    "C1_X = np.random.uniform(0,4,N)\n",
    "C1_Y = np.random.uniform(0,4,N)\n",
    "C2_X = np.random.uniform(3,7,N)\n",
    "C2_Y = np.random.uniform(3,8,N)\n",
    "T1 = np.array([1 for i in range(N)])\n",
    "T2 = np.array([2 for i in range(N)])\n",
    "X_data = np.hstack((C1_X,C2_X))\n",
    "Y_data = np.hstack((C1_Y,C2_Y))\n",
    "T_data = np.hstack((T1,T2))"
   ]
  },
  {
   "cell_type": "code",
   "execution_count": 24,
   "metadata": {},
   "outputs": [
    {
     "data": {
      "image/png": "[encoded data removed]",
      "text/plain": [
       "<Figure size 432x288 with 1 Axes>"
      ]
     },
     "metadata": {
      "needs_background": "light"
     },
     "output_type": "display_data"
    }
   ],
   "source": [
    "# setting the plot\n",
    "fig, ax = plt.subplots()\n",
    "ax.set_title('Linear Discriminant Analysis (LDA)')\n",
    "ax.set_xlim([-4,10])\n",
    "ax.set_ylim([-1,8.5])\n",
    "\n",
    "# plot the original data\n",
    "ax.scatter(C1_X, C1_Y, c='r')\n",
    "ax.scatter(C2_X, C2_Y, marker='s', c='b')\n",
    "plt.show()"
   ]
  },
  {
   "cell_type": "code",
   "execution_count": 25,
   "metadata": {},
   "outputs": [],
   "source": [
    "# transform data\n",
    "def transform(X, Y, N, D):\n",
    "    res = np.empty((0,D))\n",
    "    for i in range(N):\n",
    "        res = np.vstack((res, getTransformedFeature(X[i], Y[i], D)))\n",
    "    return res\n",
    "\n",
    "# transform each row of data\n",
    "def getTransformedFeature(x, y, D):\n",
    "    res = np.array([])\n",
    "    count = 0\n",
    "    exp_1 = 1\n",
    "    exp_2 = 0\n",
    "    while(True):\n",
    "        res = np.append(res, (x**exp_1)*(y**exp_2))\n",
    "        count += 1\n",
    "        if (count == D):\n",
    "            break\n",
    "        else:\n",
    "            exp_1 -= 1\n",
    "            if (exp_1 == -1):\n",
    "                exp_1 = exp_2 + 1\n",
    "                exp_2 = 0\n",
    "            else:\n",
    "                exp_2 += 1\n",
    "    return res"
   ]
  },
  {
   "cell_type": "code",
   "execution_count": 26,
   "metadata": {},
   "outputs": [],
   "source": [
    "# feature size\n",
    "D = 10\n",
    "\n",
    "# get transformed data\n",
    "C1_ = transform(C1_X, C1_Y, N, D)\n",
    "C2_ = transform(C2_X, C2_Y, N, D)\n",
    "C_ = np.vstack((C1_,C2_))"
   ]
  },
  {
   "cell_type": "code",
   "execution_count": 27,
   "metadata": {},
   "outputs": [],
   "source": [
    "# calculate center data\n",
    "m1 = np.sum(C1_, axis=0)/N\n",
    "m2 = np.sum(C2_, axis=0)/N\n",
    "\n",
    "# between-class covariance matrix\n",
    "S_B = np.dot((m2 - m1).reshape(D,1),(m2 - m1).reshape(1,D))\n",
    "\n",
    "# within-class covariance matrix\n",
    "S_W = 0\n",
    "for i in range(N):\n",
    "    S_W += np.dot((C1_[i] - m1).reshape(D,1),(C1_[i] - m1).reshape(1,D))\n",
    "    S_W += np.dot((C2_[i] - m2).reshape(D,1),(C2_[i] - m2).reshape(1,D))"
   ]
  },
  {
   "cell_type": "code",
   "execution_count": 28,
   "metadata": {},
   "outputs": [
    {
     "name": "stdout",
     "output_type": "stream",
     "text": [
      "[[-3.65717992]\n",
      " [-0.85711567]\n",
      " [ 1.68115545]\n",
      " [ 0.87560818]\n",
      " [ 0.08623966]\n",
      " [-0.37136424]\n",
      " [ 0.00826495]\n",
      " [-0.11165441]\n",
      " [ 0.01791136]\n",
      " [ 0.02499017]]\n"
     ]
    }
   ],
   "source": [
    "print(np.dot(np.linalg.inv(S_W), (m2 - m1).reshape(D,1)))"
   ]
  },
  {
   "cell_type": "code",
   "execution_count": 29,
   "metadata": {},
   "outputs": [
    {
     "name": "stdout",
     "output_type": "stream",
     "text": [
      "[[ 0.86534323]\n",
      " [ 0.20280633]\n",
      " [-0.39778642]\n",
      " [-0.20718193]\n",
      " [-0.02040559]\n",
      " [ 0.08787031]\n",
      " [-0.00195561]\n",
      " [ 0.0264191 ]\n",
      " [-0.0042381 ]\n",
      " [-0.00591305]]\n"
     ]
    }
   ],
   "source": [
    "A = np.dot(np.linalg.inv(S_W),S_B)\n",
    "(eig_val, eig_vec) = np.linalg.eig(A)\n",
    "W = eig_vec[:,0].real.reshape(D,1)\n",
    "print(W)"
   ]
  },
  {
   "cell_type": "code",
   "execution_count": 30,
   "metadata": {},
   "outputs": [],
   "source": [
    "m = ((m1 + m2)/2).reshape(1,D)\n",
    "Z = C_ - m\n",
    "Y = np.dot(Z,W)"
   ]
  },
  {
   "cell_type": "code",
   "execution_count": 31,
   "metadata": {},
   "outputs": [
    {
     "name": "stdout",
     "output_type": "stream",
     "text": [
      "[[ 0.48427549]\n",
      " [ 0.33074068]\n",
      " [ 0.20987651]\n",
      " [ 0.35064355]\n",
      " [ 0.31470333]\n",
      " [ 0.13899971]\n",
      " [ 0.34671075]\n",
      " [ 0.4049351 ]\n",
      " [ 0.43885694]\n",
      " [ 0.42880847]\n",
      " [-0.35074448]\n",
      " [-0.35635033]\n",
      " [-0.46178257]\n",
      " [-0.3527636 ]\n",
      " [-0.13960414]\n",
      " [-0.33511772]\n",
      " [-0.35157441]\n",
      " [-0.37232406]\n",
      " [-0.41341185]\n",
      " [-0.31487738]]\n"
     ]
    }
   ],
   "source": [
    "print(Y)"
   ]
  },
  {
   "cell_type": "code",
   "execution_count": 32,
   "metadata": {},
   "outputs": [
    {
     "data": {
      "image/png": "[encoded data removed]",
      "text/plain": [
       "<Figure size 432x288 with 1 Axes>"
      ]
     },
     "metadata": {
      "needs_background": "light"
     },
     "output_type": "display_data"
    }
   ],
   "source": [
    "# setting the plot\n",
    "fig, ax = plt.subplots()\n",
    "ax.set_title('Linear Discriminant Analysis (LDA)')\n",
    "\n",
    "# plot the original data\n",
    "ax.scatter(Y[:N], np.zeros(N), c='r')\n",
    "ax.scatter(Y[N:], np.zeros(N), c='b')\n",
    "plt.show()"
   ]
  }
 ],
 "metadata": {
  "kernelspec": {
   "display_name": "Python 3",
   "language": "python",
   "name": "python3"
  },
  "language_info": {
   "codemirror_mode": {
    "name": "ipython",
    "version": 3
   },
   "file_extension": ".py",
   "mimetype": "text/x-python",
   "name": "python",
   "nbconvert_exporter": "python",
   "pygments_lexer": "ipython3",
   "version": "3.6.9"
  }
 },
 "nbformat": 4,
 "nbformat_minor": 4
}
