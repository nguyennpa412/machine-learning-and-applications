{
 "cells": [
  {
   "cell_type": "code",
   "execution_count": 1,
   "metadata": {},
   "outputs": [],
   "source": [
    "import numpy as np\n",
    "import matplotlib.pyplot as plt\n",
    "from cvxopt import matrix, solvers\n",
    "\n",
    "# data size (each class)\n",
    "N = 10\n",
    "\n",
    "# generate original data\n",
    "X_1_data_1 = np.random.uniform(2,3,N)\n",
    "X_1_data_2 = (-X_1_data_1 + 5) - np.random.uniform(0.5,5,N)\n",
    "X_2_data_1 = np.random.uniform(2,3,N)\n",
    "X_2_data_2 = (-X_2_data_1 + 5) + np.random.uniform(0.5,5,N)\n",
    "t_1_data = np.array([1 for i in range(N)])\n",
    "t_2_data = np.array([-1 for i in range(N)])\n",
    "X_data_1 = np.hstack((X_1_data_1,X_2_data_1))\n",
    "X_data_2= np.hstack((X_1_data_2,X_2_data_2))"
   ]
  },
  {
   "cell_type": "code",
   "execution_count": 2,
   "metadata": {},
   "outputs": [
    {
     "data": {
      "image/png": "[encoded data removed]",
      "text/plain": [
       "<Figure size 432x576 with 1 Axes>"
      ]
     },
     "metadata": {},
     "output_type": "display_data"
    }
   ],
   "source": [
    "# setting the plot\n",
    "fig, ax = plt.subplots(figsize=(6,8))\n",
    "ax.set_title('SVM: các lớp khả tách tuyến tính')\n",
    "ax.set_xlabel(r'$x_1$')\n",
    "ax.set_ylabel(r'$x_2$')\n",
    "ax.set_xticks(())\n",
    "ax.set_yticks(())\n",
    "\n",
    "# plot the original data\n",
    "ax.scatter(X_1_data_1, X_1_data_2, label='+1', marker='s', c='b')\n",
    "ax.scatter(X_2_data_1, X_2_data_2, label='-1', c='r')\n",
    "ax.legend()\n",
    "plt.show()"
   ]
  },
  {
   "cell_type": "code",
   "execution_count": 3,
   "metadata": {},
   "outputs": [],
   "source": [
    "# get transformed data\n",
    "def getTransformedData(X, Y, N, M):\n",
    "    X_data = np.empty((0,M))\n",
    "    t_data = np.array([])\n",
    "    for i in range(2):\n",
    "        X_data = np.vstack((X_data, transformClassData(X[i], Y[i], N, M)))\n",
    "    t_data = np.hstack((t_data, [1 for i in range(N)]))\n",
    "    t_data = np.hstack((t_data, [-1 for i in range(N)]))\n",
    "    return X_data, t_data.reshape(2*N,1)\n",
    "\n",
    "# transform data of one class\n",
    "def transformClassData(X, Y, N, M):\n",
    "    res = np.empty((0,M))\n",
    "    for i in range(N):\n",
    "        res = np.vstack((res, getTransformedFeature(X[i], Y[i], M)))\n",
    "    return res\n",
    "\n",
    "# transform each row of data\n",
    "def getTransformedFeature(x, y, M):\n",
    "    res = np.array([])\n",
    "    count = 0\n",
    "    exp_1 = 0\n",
    "    exp_2 = 0\n",
    "    while(True):\n",
    "        res = np.append(res, (x**exp_1)*(y**exp_2))\n",
    "        count += 1\n",
    "        if (count == M):\n",
    "            break\n",
    "        else:\n",
    "            exp_1 -= 1\n",
    "            if (exp_1 == -1):\n",
    "                exp_1 = exp_2 + 1\n",
    "                exp_2 = 0\n",
    "            else:\n",
    "                exp_2 += 1\n",
    "    return res\n",
    "\n",
    "# predict function\n",
    "def predict(X, Y, w, b, M):\n",
    "    N = len(X[0])\n",
    "    Z = np.empty((0,N))\n",
    "    for x,y in zip(X,Y):\n",
    "        X_ = transformClassData(x, y, N, M-1)\n",
    "        z = np.dot(X_,w) + b\n",
    "        z[z > 0] = 1\n",
    "        z[z < 0] = -1\n",
    "        Z = np.vstack((Z,z.T))\n",
    "    return Z\n",
    "\n",
    "# calculating linear boundary\n",
    "def getBoundaryY(X, M, w, b, line_index):\n",
    "    Y = np.array([])\n",
    "    if (M == 4):\n",
    "        for x in X:\n",
    "            y = (line_index - b - np.dot(w[:2].T, np.array([[1],[x]])))/w[2]\n",
    "            Y = np.append(Y, y)\n",
    "    return Y"
   ]
  },
  {
   "cell_type": "code",
   "execution_count": 4,
   "metadata": {},
   "outputs": [],
   "source": [
    "# feature size\n",
    "M = 4\n",
    "\n",
    "# get transformed data\n",
    "X_ = np.vstack((X_1_data_1,X_2_data_1))\n",
    "Y_ = np.vstack((X_1_data_2,X_2_data_2))\n",
    "(X_data, t_data) = getTransformedData(X_, Y_, N, M-1)"
   ]
  },
  {
   "cell_type": "markdown",
   "metadata": {},
   "source": [
    "# Primal Problem"
   ]
  },
  {
   "cell_type": "code",
   "execution_count": 5,
   "metadata": {},
   "outputs": [
    {
     "name": "stdout",
     "output_type": "stream",
     "text": [
      "w: \n",
      " [[ 9.66532300e-16]\n",
      " [-5.50591409e-02]\n",
      " [-1.97703776e+00]]\n",
      "b: \n",
      " 4.296651868382082\n"
     ]
    }
   ],
   "source": [
    "# CVXOPT variables\n",
    " # K\n",
    "K = np.identity(M)\n",
    "K[M-1] *= 0\n",
    "K = matrix(K)\n",
    " # p\n",
    "p = matrix(np.zeros((M,1)))\n",
    " # G\n",
    "G = matrix(np.hstack((-t_data*X_data, -t_data)))\n",
    " # h\n",
    "h = matrix(-np.ones((2*N,1)))\n",
    "\n",
    "# solve\n",
    "solvers.options['show_progress'] = False\n",
    "solution = solvers.qp(K,p,G,h)\n",
    "\n",
    "# get solution\n",
    "w_b = np.array(solution['x'])\n",
    "w = w_b[:M-1]\n",
    "b = w_b[M-1][0]\n",
    "\n",
    "print('w: \\n', w)\n",
    "print('b: \\n', b)"
   ]
  },
  {
   "cell_type": "code",
   "execution_count": 6,
   "metadata": {},
   "outputs": [],
   "source": [
    "# plot data\n",
    "x = np.arange(1.5,3.25,0.01)\n",
    "y = np.arange(-3.5,8.5,0.01)\n",
    "(xx, yy) = np.meshgrid(x, y)\n",
    "z = predict(xx,yy,w,b,M)\n",
    "\n",
    "# decision boundary\n",
    "y_0 = getBoundaryY(x, M, w, b, 0)\n",
    "y_1 = getBoundaryY(x, M, w, b, 1)\n",
    "y_2 = getBoundaryY(x, M, w, b, -1)\n",
    "\n",
    "# get points on margin\n",
    "x_margin_1 = np.array([])\n",
    "y_margin_1 = np.array([])\n",
    "x_margin_2 = np.array([])\n",
    "y_margin_2 = np.array([])\n",
    "for x_,y_ in zip(X_data_1, X_data_2):\n",
    "    z_ = np.dot(w.T,np.array([[1],[x_],[y_]]))+b\n",
    "    if (round(z_[0][0],2) == 1):\n",
    "        x_margin_1 = np.append(x_margin_1, x_)\n",
    "        y_margin_1 = np.append(y_margin_1, y_)\n",
    "    elif (round(z_[0][0],2) == -1):\n",
    "        x_margin_2 = np.append(x_margin_2, x_)\n",
    "        y_margin_2 = np.append(y_margin_2, y_)\n",
    "        \n",
    "# get angle\n",
    "angle = np.rad2deg(np.arctan2(y_0[15]-y_0[5], x[15]-x[5]))"
   ]
  },
  {
   "cell_type": "code",
   "execution_count": 7,
   "metadata": {},
   "outputs": [
    {
     "data": {
      "image/png": "[encoded data removed]",
      "text/plain": [
       "<Figure size 432x576 with 1 Axes>"
      ]
     },
     "metadata": {},
     "output_type": "display_data"
    }
   ],
   "source": [
    "# setting the plot\n",
    "fig, ax = plt.subplots(figsize=(6,8))\n",
    "ax.set_title('SVM: các lớp khả tách tuyến tính')\n",
    "ax.set_xlabel(r'$x_1$')\n",
    "ax.set_ylabel(r'$x_2$')\n",
    "ax.set_xticks(())\n",
    "ax.set_yticks(())\n",
    "\n",
    "# plot the original data\n",
    "ax.contourf(x,y,z,colors=['r','b'], alpha=0.3)\n",
    "ax.scatter(X_1_data_1, X_1_data_2, label='+1', marker='s', c='b')\n",
    "ax.scatter(X_2_data_1, X_2_data_2, label='-1', c='r')\n",
    "ax.scatter(x_margin_1, y_margin_1, s=150, facecolors='none', edgecolors='b')\n",
    "ax.scatter(x_margin_2, y_margin_2, s=150, facecolors='none', edgecolors='r')\n",
    "rotation_angle = ax.transData.transform_angles(np.array((angle,)), np.array([x[5], y_0[5]]).reshape((1, 2)))[0]\n",
    "ax.plot(x,y_0,c='black')\n",
    "ax.text(x[5],y_0[5]+0.05,r'$\\bf w^{T}x$$+b=0$',rotation_mode='anchor', rotation=rotation_angle)\n",
    "ax.plot(x,y_1,c='b',ls='--')\n",
    "ax.text(x[5],y_1[5]+0.05,r'$\\bf w^{T}x$$+b=1$',rotation_mode='anchor', rotation=rotation_angle)\n",
    "ax.plot(x,y_2,c='r',ls='--')\n",
    "ax.text(x[5],y_2[5]+0.05,r'$\\bf w^{T}x$$+b=-1$',rotation_mode='anchor', rotation=rotation_angle)\n",
    "ax.legend()\n",
    "plt.show()"
   ]
  },
  {
   "cell_type": "markdown",
   "metadata": {},
   "source": [
    "# Dual Problem"
   ]
  },
  {
   "cell_type": "code",
   "execution_count": 10,
   "metadata": {},
   "outputs": [
    {
     "name": "stdout",
     "output_type": "stream",
     "text": [
      "alpha: \n",
      " [[0.        ]\n",
      " [0.        ]\n",
      " [0.        ]\n",
      " [0.        ]\n",
      " [1.95585476]\n",
      " [0.        ]\n",
      " [0.        ]\n",
      " [0.        ]\n",
      " [0.        ]\n",
      " [0.        ]\n",
      " [0.        ]\n",
      " [0.        ]\n",
      " [0.        ]\n",
      " [0.        ]\n",
      " [0.        ]\n",
      " [0.        ]\n",
      " [0.        ]\n",
      " [0.        ]\n",
      " [1.95585481]\n",
      " [0.        ]]\n"
     ]
    }
   ],
   "source": [
    "# set new M\n",
    "M = 4\n",
    "\n",
    "# get new training data\n",
    "(X_data, t_data) = getTransformedData(X_, Y_, N, M-1)\n",
    "\n",
    "# CVXOPT variables\n",
    " # K\n",
    "K_Gram = np.dot(X_data,X_data.T)\n",
    "_T_ = np.dot(t_data,t_data.T)\n",
    "_K_ = K_Gram*_T_\n",
    "_K_ = matrix(_K_)\n",
    " # p\n",
    "_p_ = matrix(-np.ones((2*N,1)))\n",
    " # G\n",
    "_G_ = matrix(-np.identity(2*N))\n",
    " # h\n",
    "_h_ = matrix(np.zeros((2*N,1)))\n",
    " # A\n",
    "_A_ = matrix(np.array([[t[0] for t in t_data]]))\n",
    " # b\n",
    "_b_ = matrix(0.0)\n",
    "\n",
    "# solve\n",
    "solvers.options['show_progress'] = False\n",
    "_solution_ = solvers.qp(_K_,_p_,_G_,_h_,_A_,_b_)\n",
    "\n",
    "# get solution\n",
    "_a_s = np.array(_solution_['x'])\n",
    "_a_s[_a_s.round(2) == 0] = 0\n",
    "_a_idx = np.where(_a_s == _a_s[_a_s > 0])[0]\n",
    "X_s = X_data[_a_idx]\n",
    "t_s = t_data[_a_idx]\n",
    "N_s = len(X_s)\n",
    "print('alpha: \\n', _a_s)\n",
    "_a_s = _a_s[_a_idx]"
   ]
  },
  {
   "cell_type": "code",
   "execution_count": 11,
   "metadata": {},
   "outputs": [
    {
     "name": "stdout",
     "output_type": "stream",
     "text": [
      "b: \n",
      " -54.344506524136236\n"
     ]
    }
   ],
   "source": [
    "# calculate w & b\n",
    "# _w_s = np.dot(X_data.T,_a_s*t_data)\n",
    "_b_s = np.sum(t_s - np.dot(np.dot(X_s,X_s.T),_a_s))/(N_s)\n",
    "\n",
    "# print('w: \\n',_w_s)\n",
    "print('b: \\n',_b_s)\n",
    "\n",
    "# dual predict function\n",
    "def dualPredict(X, Y, X_s, a_s, b, M):\n",
    "    N = len(X[0])\n",
    "    Z = np.empty((0,N))\n",
    "    for x,y in zip(X,Y):\n",
    "        X_b = transformClassData(x, y, N, M-1)\n",
    "        z = np.dot(np.dot(X_b,X_s.T),a_s)+b\n",
    "        z[z > 0] = 1\n",
    "        z[z < 0] = -1\n",
    "        Z = np.vstack((Z,z.T))\n",
    "    return Z\n",
    "\n",
    "# calculate linear boundary for dual problem\n",
    "def getDualBoundaryY(X, X_s, M, a_s, b_s, line_index):\n",
    "    Y = np.array([])\n",
    "    if (M == 4):\n",
    "        for x in X:\n",
    "            a = np.array([[1,x]])\n",
    "            b = X_s[:,:2]\n",
    "            c = X_s[:,2:]\n",
    "            y = (line_index - b_s - np.dot(np.dot(a,b.T),a_s)[0][0])/(np.dot(c.T,a_s)[0][0])\n",
    "            Y = np.append(Y, y)\n",
    "    return Y"
   ]
  },
  {
   "cell_type": "code",
   "execution_count": 12,
   "metadata": {},
   "outputs": [],
   "source": [
    "# plot data\n",
    "_x = np.arange(1.5,3.25,0.01)\n",
    "_y = np.arange(-3.5,8.5,0.01)\n",
    "(_xx, _yy) = np.meshgrid(_x, _y)\n",
    "_z = dualPredict(_xx,_yy,X_s,_a_s,_b_s,M)\n",
    "\n",
    "# decision boundary\n",
    "# _y_0 = getDualBoundaryY(_x, X_data, M, _a_s, _b_s, 0)\n",
    "# _y_1 = getDualBoundaryY(_x, X_data, M, _a_s, _b_s, -1)\n",
    "# _y_2 = getDualBoundaryY(_x, X_data, M, _a_s, _b_s, 1)\n",
    "\n",
    "# # get points on margin\n",
    "# x_margin_1 = np.array([])\n",
    "# y_margin_1 = np.array([])\n",
    "# x_margin_2 = np.array([])\n",
    "# y_margin_2 = np.array([])\n",
    "# for x_,y_ in zip(X_data_1, X_data_2):\n",
    "#     z_ = np.dot(w.T,np.array([[1],[x_],[y_]]))+b\n",
    "#     if (round(z_[0][0],2) == 1):\n",
    "#         x_margin_1 = np.append(x_margin_1, x_)\n",
    "#         y_margin_1 = np.append(y_margin_1, y_)\n",
    "#     elif (round(z_[0][0],2) == -1):\n",
    "#         x_margin_2 = np.append(x_margin_2, x_)\n",
    "#         y_margin_2 = np.append(y_margin_2, y_)\n",
    "        \n",
    "# # get angle\n",
    "# angle = np.rad2deg(np.arctan2(y_0[15]-y_0[5], x[15]-x[5]))"
   ]
  },
  {
   "cell_type": "code",
   "execution_count": 13,
   "metadata": {},
   "outputs": [
    {
     "data": {
      "image/png": "[encoded data removed]",
      "text/plain": [
       "<Figure size 432x576 with 1 Axes>"
      ]
     },
     "metadata": {},
     "output_type": "display_data"
    }
   ],
   "source": [
    "# setting the plot\n",
    "fig, ax = plt.subplots(figsize=(6,8))\n",
    "ax.set_title('SVM: các lớp khả tách tuyến tính')\n",
    "ax.set_xlabel(r'$x_1$')\n",
    "ax.set_ylabel(r'$x_2$')\n",
    "ax.set_xticks(())\n",
    "ax.set_yticks(())\n",
    "\n",
    "# plot the original data\n",
    "ax.contourf(_x,_y,_z,colors=['r','b'], alpha=0.3)\n",
    "ax.scatter(X_1_data_1, X_1_data_2, label='+1', marker='s', c='b')\n",
    "ax.scatter(X_2_data_1, X_2_data_2, label='-1', c='r')\n",
    "# ax.scatter(x_margin_1, y_margin_1, s=150, facecolors='none', edgecolors='b')\n",
    "# ax.scatter(x_margin_2, y_margin_2, s=150, facecolors='none', edgecolors='r')\n",
    "# rotation_angle = ax.transData.transform_angles(np.array((angle,)), np.array([x[5], y_0[5]]).reshape((1, 2)))[0]\n",
    "# ax.plot(_x,_y_0,c='black')\n",
    "# ax.text(x[5],y_0[5]+0.05,r'$\\bf w^{T}x$$+b=0$',rotation_mode='anchor', rotation=rotation_angle)\n",
    "# ax.plot(_x,_y_1,c='b',ls='--')\n",
    "# ax.text(x[5],y_1[5]+0.05,r'$\\bf w^{T}x$$+b=1$',rotation_mode='anchor', rotation=rotation_angle)\n",
    "# ax.plot(_x,_y_2,c='r',ls='--')\n",
    "# ax.text(x[5],y_2[5]+0.05,r'$\\bf w^{T}x$$+b=-1$',rotation_mode='anchor', rotation=rotation_angle)\n",
    "ax.legend()\n",
    "plt.show()"
   ]
  },
  {
   "cell_type": "code",
   "execution_count": null,
   "metadata": {},
   "outputs": [],
   "source": []
  }
 ],
 "metadata": {
  "kernelspec": {
   "display_name": "Python 3",
   "language": "python",
   "name": "python3"
  },
  "language_info": {
   "codemirror_mode": {
    "name": "ipython",
    "version": 3
   },
   "file_extension": ".py",
   "mimetype": "text/x-python",
   "name": "python",
   "nbconvert_exporter": "python",
   "pygments_lexer": "ipython3",
   "version": "3.6.8"
  }
 },
 "nbformat": 4,
 "nbformat_minor": 4
}
